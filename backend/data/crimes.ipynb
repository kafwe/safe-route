{
 "cells": [
  {
   "cell_type": "markdown",
   "metadata": {},
   "source": [
    "# Crime Stats"
   ]
  },
  {
   "cell_type": "markdown",
   "metadata": {},
   "source": [
    "Setup packages"
   ]
  },
  {
   "cell_type": "code",
   "execution_count": null,
   "metadata": {},
   "outputs": [],
   "source": [
    "!pip install pandas"
   ]
  },
  {
   "cell_type": "markdown",
   "metadata": {},
   "source": [
    "Load inital data"
   ]
  },
  {
   "cell_type": "code",
   "execution_count": null,
   "metadata": {},
   "outputs": [],
   "source": [
    "import pandas as pd\n",
    "\n",
    "saps = 'saps.csv'\n",
    "cpt_neighbourhoods = 'Grouped_Incidents.csv'\n",
    "\n",
    "all_saps_data = pd.read_csv(saps)\n",
    "all_cpt_neighbourhoods = pd.read_csv(cpt_neighbourhoods)"
   ]
  },
  {
   "cell_type": "markdown",
   "metadata": {},
   "source": [
    "Remove non-Cape Town data"
   ]
  },
  {
   "cell_type": "code",
   "execution_count": null,
   "metadata": {},
   "outputs": [],
   "source": [
    "all_saps_data['Station'] = all_saps_data['Station'].str.title()\n",
    "saps_cpt_crime = pd.merge(all_saps_data, all_cpt_neighbourhoods, \n",
    "                          left_on='Station', right_on='Map level of detail', \n",
    "                          how='inner')\n",
    "del all_saps_data\n",
    "del all_cpt_neighbourhoods"
   ]
  },
  {
   "cell_type": "markdown",
   "metadata": {},
   "source": [
    "Remove unwanted fields"
   ]
  },
  {
   "cell_type": "code",
   "execution_count": null,
   "metadata": {},
   "outputs": [],
   "source": [
    "fields = ['Crime Category', 'Station', 'Incidents values', \n",
    "          'Year of date', 'Latitude', 'Longitude']\n",
    "saps_cpt_crime = saps_cpt_crime[fields]"
   ]
  },
  {
   "cell_type": "markdown",
   "metadata": {},
   "source": [
    "Remove unwanted crime"
   ]
  },
  {
   "cell_type": "code",
   "execution_count": null,
   "metadata": {},
   "outputs": [],
   "source": [
    "crimes = ['Carjacking', 'Truck hijacking', 'TRIO Crime', \n",
    "          'Theft out of or from motor vehicle', \n",
    "          'Theft of motor vehicle and motorcycle', \n",
    "          'Murder', 'Kidnapping', 'Driving under the influence of alcohol or drugs']\n",
    "saps_cpt_crime = saps_cpt_crime[saps_cpt_crime['Crime Category'].isin(crimes)]"
   ]
  },
  {
   "cell_type": "markdown",
   "metadata": {},
   "source": [
    "Shorten to crimes in the last 3 years"
   ]
  },
  {
   "cell_type": "code",
   "execution_count": null,
   "metadata": {},
   "outputs": [],
   "source": [
    "years = [2021, 2022, 2023]\n",
    "saps_cpt_crime['Year of date'] = saps_cpt_crime['Year of date'].astype(int)\n",
    "saps_cpt_crime = saps_cpt_crime[saps_cpt_crime['Year of date'].isin(years)]"
   ]
  },
  {
   "cell_type": "markdown",
   "metadata": {},
   "source": [
    "Write all crimes from last 3 years to files"
   ]
  },
  {
   "cell_type": "code",
   "execution_count": null,
   "metadata": {},
   "outputs": [],
   "source": [
    "saps_cpt_crime.to_csv('saps-cpt-crime.csv', index=False)"
   ]
  },
  {
   "cell_type": "markdown",
   "metadata": {},
   "source": [
    "Group crime by station "
   ]
  },
  {
   "cell_type": "code",
   "execution_count": null,
   "metadata": {},
   "outputs": [],
   "source": [
    "grouped_data = saps_cpt_crime.groupby(\n",
    "    ['Station', 'Latitude', 'Longitude']\n",
    ").agg({'Incidents values': 'sum'}).reset_index()\n"
   ]
  },
  {
   "cell_type": "markdown",
   "metadata": {},
   "source": [
    "Write summarised stats to file"
   ]
  },
  {
   "cell_type": "code",
   "execution_count": null,
   "metadata": {},
   "outputs": [],
   "source": [
    "grouped_data.to_csv('crime-summary.csv', index=False)"
   ]
  }
 ],
 "metadata": {
  "kernelspec": {
   "display_name": "Python 3",
   "language": "python",
   "name": "python3"
  },
  "language_info": {
   "codemirror_mode": {
    "name": "ipython",
    "version": 3
   },
   "file_extension": ".py",
   "mimetype": "text/x-python",
   "name": "python",
   "nbconvert_exporter": "python",
   "pygments_lexer": "ipython3",
   "version": "3.11.4"
  }
 },
 "nbformat": 4,
 "nbformat_minor": 2
}
